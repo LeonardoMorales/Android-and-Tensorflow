{
  "nbformat": 4,
  "nbformat_minor": 0,
  "metadata": {
    "colab": {
      "name": "Handwritten Digits Recognition.ipynb",
      "provenance": [],
      "toc_visible": true
    },
    "kernelspec": {
      "name": "python3",
      "display_name": "Python 3"
    }
  },
  "cells": [
    {
      "cell_type": "markdown",
      "metadata": {
        "id": "nKzn1sS8Gn2V"
      },
      "source": [
        "# Importing libraries"
      ]
    },
    {
      "cell_type": "code",
      "metadata": {
        "id": "SfQzrQmAEJhH"
      },
      "source": [
        "import tensorflow as tf\r\n",
        "from tensorflow import keras"
      ],
      "execution_count": 1,
      "outputs": []
    },
    {
      "cell_type": "code",
      "metadata": {
        "id": "Z-SZydesEWNc"
      },
      "source": [
        "import numpy as np\r\n",
        "import matplotlib.pyplot as plt"
      ],
      "execution_count": 3,
      "outputs": []
    },
    {
      "cell_type": "markdown",
      "metadata": {
        "id": "GL7zaIwWGti_"
      },
      "source": [
        "# Loading dataset with images"
      ]
    },
    {
      "cell_type": "code",
      "metadata": {
        "colab": {
          "base_uri": "https://localhost:8080/"
        },
        "id": "676ToHkeEfmq",
        "outputId": "9632ccf4-9caf-49a9-858f-96ae4528d294"
      },
      "source": [
        "mnist = tf.keras.datasets.mnist\r\n",
        "(images_train, labels_train),(images_test, labels_test) = mnist.load_data()"
      ],
      "execution_count": 4,
      "outputs": [
        {
          "output_type": "stream",
          "text": [
            "Downloading data from https://storage.googleapis.com/tensorflow/tf-keras-datasets/mnist.npz\n",
            "11493376/11490434 [==============================] - 0s 0us/step\n"
          ],
          "name": "stdout"
        }
      ]
    },
    {
      "cell_type": "markdown",
      "metadata": {
        "id": "7-IvkzXvGywd"
      },
      "source": [
        "# Labels for classification"
      ]
    },
    {
      "cell_type": "code",
      "metadata": {
        "id": "9YRjeueNE0jx"
      },
      "source": [
        "class_names = ['zero', 'one', 'two', 'three', 'four', 'five', 'six', 'seven', 'eight', 'nine']"
      ],
      "execution_count": 6,
      "outputs": []
    },
    {
      "cell_type": "markdown",
      "metadata": {
        "id": "crmufA3aG3lF"
      },
      "source": [
        "# Display image of example"
      ]
    },
    {
      "cell_type": "code",
      "metadata": {
        "colab": {
          "base_uri": "https://localhost:8080/",
          "height": 279
        },
        "id": "xWmDpkJwFCd_",
        "outputId": "50462f3f-5a74-459c-ecbb-700133e848d3"
      },
      "source": [
        "plt.figure()\r\n",
        "plt.imshow(images_train[0])\r\n",
        "plt.colorbar()\r\n",
        "plt.grid(False)\r\n",
        "plt.xlabel('Classification label: {}'.format(labels_train[0]))\r\n",
        "plt.show()"
      ],
      "execution_count": 12,
      "outputs": [
        {
          "output_type": "display_data",
          "data": {
            "image/png": "[encoded data removed]",
            "text/plain": [
              "<Figure size 432x288 with 2 Axes>"
            ]
          },
          "metadata": {
            "tags": [],
            "needs_background": "light"
          }
        }
      ]
    },
    {
      "cell_type": "markdown",
      "metadata": {
        "id": "RjtzLiOgG7vS"
      },
      "source": [
        "# Normalize data (Images)"
      ]
    },
    {
      "cell_type": "code",
      "metadata": {
        "id": "9wV3ykVJGCME"
      },
      "source": [
        "images_train = images_train / 255.0\r\n",
        "images_test = images_test / 255.0"
      ],
      "execution_count": 13,
      "outputs": []
    },
    {
      "cell_type": "markdown",
      "metadata": {
        "id": "YA4Ja41vHAls"
      },
      "source": [
        "# Training Model"
      ]
    },
    {
      "cell_type": "code",
      "metadata": {
        "id": "sKuGM86HGhhQ"
      },
      "source": [
        "model = tf.keras.models.Sequential([\r\n",
        "    tf.keras.layers.Flatten(input_shape=(28,28)),\r\n",
        "    tf.keras.layers.Dense(512, activation=tf.nn.relu),\r\n",
        "    tf.keras.layers.Dropout(0.2),\r\n",
        "    tf.keras.layers.Dense(512, activation=tf.nn.relu),\r\n",
        "    tf.keras.layers.Dropout(0.2),\r\n",
        "    tf.keras.layers.Dense(10, activation=tf.nn.softmax)\r\n",
        "])\r\n",
        "\r\n",
        "model.compile(optimizer='adam',\r\n",
        "              loss='sparse_categorical_crossentropy',\r\n",
        "              metrics=['accuracy'])"
      ],
      "execution_count": 15,
      "outputs": []
    },
    {
      "cell_type": "code",
      "metadata": {
        "colab": {
          "base_uri": "https://localhost:8080/"
        },
        "id": "i0RpaXXhIwnU",
        "outputId": "bdfae537-c755-4724-82fb-9b21bb052d13"
      },
      "source": [
        "model.fit(images_train, labels_train, epochs=16)"
      ],
      "execution_count": 16,
      "outputs": [
        {
          "output_type": "stream",
          "text": [
            "Epoch 1/16\n",
            "1875/1875 [==============================] - 14s 7ms/step - loss: 0.3545 - accuracy: 0.8929\n",
            "Epoch 2/16\n",
            "1875/1875 [==============================] - 13s 7ms/step - loss: 0.1071 - accuracy: 0.9654\n",
            "Epoch 3/16\n",
            "1875/1875 [==============================] - 13s 7ms/step - loss: 0.0789 - accuracy: 0.9750\n",
            "Epoch 4/16\n",
            "1875/1875 [==============================] - 13s 7ms/step - loss: 0.0612 - accuracy: 0.9804\n",
            "Epoch 5/16\n",
            "1875/1875 [==============================] - 14s 7ms/step - loss: 0.0581 - accuracy: 0.9808\n",
            "Epoch 6/16\n",
            "1875/1875 [==============================] - 13s 7ms/step - loss: 0.0485 - accuracy: 0.9841\n",
            "Epoch 7/16\n",
            "1875/1875 [==============================] - 13s 7ms/step - loss: 0.0428 - accuracy: 0.9859\n",
            "Epoch 8/16\n",
            "1875/1875 [==============================] - 13s 7ms/step - loss: 0.0398 - accuracy: 0.9880\n",
            "Epoch 9/16\n",
            "1875/1875 [==============================] - 13s 7ms/step - loss: 0.0378 - accuracy: 0.9884\n",
            "Epoch 10/16\n",
            "1875/1875 [==============================] - 13s 7ms/step - loss: 0.0305 - accuracy: 0.9903\n",
            "Epoch 11/16\n",
            "1875/1875 [==============================] - 13s 7ms/step - loss: 0.0326 - accuracy: 0.9898\n",
            "Epoch 12/16\n",
            "1875/1875 [==============================] - 13s 7ms/step - loss: 0.0293 - accuracy: 0.9914\n",
            "Epoch 13/16\n",
            "1875/1875 [==============================] - 13s 7ms/step - loss: 0.0298 - accuracy: 0.9908\n",
            "Epoch 14/16\n",
            "1875/1875 [==============================] - 13s 7ms/step - loss: 0.0284 - accuracy: 0.9922\n",
            "Epoch 15/16\n",
            "1875/1875 [==============================] - 13s 7ms/step - loss: 0.0312 - accuracy: 0.9908\n",
            "Epoch 16/16\n",
            "1875/1875 [==============================] - 13s 7ms/step - loss: 0.0271 - accuracy: 0.9918\n"
          ],
          "name": "stdout"
        },
        {
          "output_type": "execute_result",
          "data": {
            "text/plain": [
              "<tensorflow.python.keras.callbacks.History at 0x7ff34db8f898>"
            ]
          },
          "metadata": {
            "tags": []
          },
          "execution_count": 16
        }
      ]
    },
    {
      "cell_type": "markdown",
      "metadata": {
        "id": "NHwuNXPrLcjW"
      },
      "source": [
        "# Evaluate Model"
      ]
    },
    {
      "cell_type": "code",
      "metadata": {
        "colab": {
          "base_uri": "https://localhost:8080/"
        },
        "id": "yH1toCuHI1l7",
        "outputId": "fab00849-94c4-4466-d630-d0cb9c577428"
      },
      "source": [
        "  test_loss, test_acc = model.evaluate(images_test, labels_test)\r\n",
        "  print('Test accuracy: ', test_acc)"
      ],
      "execution_count": 17,
      "outputs": [
        {
          "output_type": "stream",
          "text": [
            "313/313 [==============================] - 1s 3ms/step - loss: 0.0945 - accuracy: 0.9817\n",
            "Test accuracy:  0.9817000031471252\n"
          ],
          "name": "stdout"
        }
      ]
    },
    {
      "cell_type": "markdown",
      "metadata": {
        "id": "EA17RFQiLoYH"
      },
      "source": [
        "# Save Model"
      ]
    },
    {
      "cell_type": "code",
      "metadata": {
        "colab": {
          "base_uri": "https://localhost:8080/"
        },
        "id": "3849yNGyLT5n",
        "outputId": "8917723e-33bc-413f-d152-5345106d1a1c"
      },
      "source": [
        "keras_file = \"digit.h5\"\r\n",
        "tf.keras.models.save_model(model, keras_file)\r\n",
        "converter = tf.lite.TFLiteConverter.from_keras_model(model)\r\n",
        "tfmodel = converter.convert()\r\n",
        "open(\"digit.tflite\", \"wb\").write(tfmodel)"
      ],
      "execution_count": 18,
      "outputs": [
        {
          "output_type": "stream",
          "text": [
            "INFO:tensorflow:Assets written to: /tmp/tmp1apf2tc_/assets\n"
          ],
          "name": "stdout"
        },
        {
          "output_type": "execute_result",
          "data": {
            "text/plain": [
              "2680928"
            ]
          },
          "metadata": {
            "tags": []
          },
          "execution_count": 18
        }
      ]
    }
  ]
}